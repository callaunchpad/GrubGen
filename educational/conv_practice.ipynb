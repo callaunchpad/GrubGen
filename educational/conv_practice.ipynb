{
  "nbformat": 4,
  "nbformat_minor": 0,
  "metadata": {
    "colab": {
      "name": "conv-practice.ipynb",
      "version": "0.3.2",
      "provenance": [],
      "collapsed_sections": []
    },
    "kernelspec": {
      "name": "python3",
      "display_name": "Python 3"
    }
  },
  "cells": [
    {
      "metadata": {
        "id": "fYxvAqecrHNK",
        "colab_type": "text"
      },
      "cell_type": "markdown",
      "source": [
        "Practice: building a MNIST-M classifier using a convnet!"
      ]
    },
    {
      "metadata": {
        "id": "0FvfbKWaqyNI",
        "colab_type": "code",
        "colab": {}
      },
      "cell_type": "code",
      "source": [
        "import tensorflow as tf\n",
        "import numpy as np\n",
        "import matplotlib.pyplot as plt\n",
        "import pickle as pkl\n",
        "%matplotlib inline"
      ],
      "execution_count": 0,
      "outputs": []
    },
    {
      "metadata": {
        "id": "1UOVW0Qrq1KB",
        "colab_type": "code",
        "colab": {}
      },
      "cell_type": "code",
      "source": [
        "from tensorflow.examples.tutorials.mnist import input_data\n",
        "mnist = input_data.read_data_sets(\"MNIST_data/\", one_hot=True)"
      ],
      "execution_count": 0,
      "outputs": []
    },
    {
      "metadata": {
        "id": "TfPobV5XrD58",
        "colab_type": "text"
      },
      "cell_type": "markdown",
      "source": [
        "Now, please run python create_mnistm.py to create \"mnistm_data.pkl\"\n"
      ]
    },
    {
      "metadata": {
        "id": "bcUhOfQ0rU2c",
        "colab_type": "code",
        "colab": {}
      },
      "cell_type": "code",
      "source": [
        "#some UTILITY FUNCTIONS\n",
        "def shuffle_aligned_list(data):\n",
        "    \"\"\"Shuffle arrays in a list by shuffling each array identically.\"\"\"\n",
        "    num = data[0].shape[0]\n",
        "    p = np.random.permutation(num)\n",
        "    return [d[p] for d in data]\n",
        "\n",
        "def batch_generator(data, batch_size, shuffle=True):\n",
        "    \"\"\"Generate batches of data.\n",
        "    \n",
        "    Given a list of array-like objects, generate batches of a given\n",
        "    size by yielding a list of array-like objects corresponding to the\n",
        "    same slice of each input.\n",
        "    \"\"\"\n",
        "    if shuffle:\n",
        "        data = shuffle_aligned_list(data)\n",
        "\n",
        "    batch_count = 0\n",
        "    while True:\n",
        "        if batch_count * batch_size + batch_size >= len(data[0]):\n",
        "            batch_count = 0\n",
        "\n",
        "            if shuffle:\n",
        "                data = shuffle_aligned_list(data)\n",
        "\n",
        "        start = batch_count * batch_size\n",
        "        end = start + batch_size\n",
        "        batch_count += 1\n",
        "        yield [d[start:end] for d in data]"
      ],
      "execution_count": 0,
      "outputs": []
    },
    {
      "metadata": {
        "id": "Rl3inDiNrDnC",
        "colab_type": "code",
        "colab": {}
      },
      "cell_type": "code",
      "source": [
        "mnistm = pkl.load(open(\"mnistm_data.pkl\", 'rb'))"
      ],
      "execution_count": 0,
      "outputs": []
    },
    {
      "metadata": {
        "id": "PzLcZ0lwrAwL",
        "colab_type": "code",
        "colab": {}
      },
      "cell_type": "code",
      "source": [
        "mnistm_train = mnistm['train']/255\n",
        "mnistm_test = mnistm['test']/255\n",
        "mnistm_valid = mnistm['valid']/256"
      ],
      "execution_count": 0,
      "outputs": []
    },
    {
      "metadata": {
        "id": "wEICUd-jszSd",
        "colab_type": "code",
        "outputId": "6d27274a-976c-44a2-e5bc-d32ca104a0ae",
        "colab": {
          "base_uri": "https://localhost:8080/",
          "height": 110
        }
      },
      "cell_type": "code",
      "source": [
        "# visualize the dataset\n",
        "start = 1500 #pick any number\n",
        "for i in range(10):\n",
        "  plt.subplot(2, 10, i + 11)\n",
        "  plt.title(np.argmax(mnist.test.labels[start + i]))\n",
        "  plt.imshow(np.reshape(mnistm_test[start + i:start + i + 1], (28, 28, 3)))\n",
        "  plt.axis('off')\n",
        "  \n",
        "plt.gcf().set_size_inches(10, 4)\n",
        "plt.show()"
      ],
      "execution_count": 0,
      "outputs": [
        {
          "output_type": "display_data",
          "data": {
            "image/png": "[encoded data removed]",
            "text/plain": [
              "<Figure size 720x288 with 10 Axes>"
            ]
          },
          "metadata": {
            "tags": []
          }
        }
      ]
    },
    {
      "metadata": {
        "id": "BeQ029AYyEB4",
        "colab_type": "text"
      },
      "cell_type": "markdown",
      "source": [
        "Code writing begins below"
      ]
    },
    {
      "metadata": {
        "id": "2sc6AEVkrXIO",
        "colab_type": "code",
        "colab": {}
      },
      "cell_type": "code",
      "source": [
        "x = tf.placeholder(tf.float32, [None, 28, 28, 3])\n",
        "y = tf.placeholder(tf.int64, [None, 10])\n",
        "\n",
        "x_in = tf.reshape(x, (-1, 28, 28, 3))\n",
        "# Write your model here! (need to write multiple lines to define your model)\n",
        "# y_hat = something something etc"
      ],
      "execution_count": 0,
      "outputs": []
    },
    {
      "metadata": {
        "id": "PRW1lTQXsA66",
        "colab_type": "code",
        "colab": {}
      },
      "cell_type": "code",
      "source": [
        "# Now write your loss function! \n",
        "# Standard cross entropy with logits is fine (see tf.nn.softmax_cross_entropy_with_logits_v2)\n",
        "\n",
        "# predict_loss = something something\n",
        "loss = tf.reduce_sum(predict_loss)"
      ],
      "execution_count": 0,
      "outputs": []
    },
    {
      "metadata": {
        "id": "9XcBiCehsS-s",
        "colab_type": "code",
        "colab": {}
      },
      "cell_type": "code",
      "source": [
        "# write an optimizer!\n",
        "optimizer = #something something"
      ],
      "execution_count": 0,
      "outputs": []
    },
    {
      "metadata": {
        "id": "hpydP4rYsVpw",
        "colab_type": "code",
        "colab": {}
      },
      "cell_type": "code",
      "source": [
        "sess = tf.Session() #line 1\n",
        "init = tf.global_variables_initializer() #line 2\n",
        "sess.run(init) #line 3"
      ],
      "execution_count": 0,
      "outputs": []
    },
    {
      "metadata": {
        "id": "e6fzwvC8sfBb",
        "colab_type": "code",
        "colab": {}
      },
      "cell_type": "code",
      "source": [
        "# please explain what each of the lines above do\n",
        "# line 1 = ...\n",
        "# line 2 = ...\n",
        "# line 3 = ..."
      ],
      "execution_count": 0,
      "outputs": []
    },
    {
      "metadata": {
        "id": "rxgNPETgsmAO",
        "colab_type": "code",
        "colab": {}
      },
      "cell_type": "code",
      "source": [
        "# Now write your training loop\n",
        "\n",
        "batch_size = #your batch size\n",
        "loss_plot = []\n",
        "num_epochs = 5000\n",
        "\n",
        "mnistm_batch = batch_generator([mnistm_train, mnist.train.labels], batch_size)\n",
        "for epoch in range(num_epochs + 1):\n",
        "  batch_xs, batch_ys = next(mnistm_batch)\n",
        "  \n",
        "  #what do we need to write here (just 1 line) --> run the optimizer thru the tf.sess\n",
        "  \n",
        "  loss_plot.append(loss_curr)\n",
        "  \n",
        "  if epoch % 100 == 0:\n",
        "        print(epoch, \"Batch Loss:\", loss_curr)"
      ],
      "execution_count": 0,
      "outputs": []
    },
    {
      "metadata": {
        "id": "4gmdK6o2xyMs",
        "colab_type": "code",
        "colab": {}
      },
      "cell_type": "code",
      "source": [
        "#classification prediction\n",
        "correct_prediction = tf.equal(tf.argmax(y_hat, 1), tf.argmax(y,1))\n",
        "accuracy = tf.reduce_mean(tf.cast(correct_prediction, tf.float32))\n",
        "print(\"Prediction accuracy (test)\", sess.run(accuracy, feed_dict={x: mnistm_test, y: mnist.test.labels}))"
      ],
      "execution_count": 0,
      "outputs": []
    },
    {
      "metadata": {
        "id": "tt_XscIdu-4P",
        "colab_type": "code",
        "colab": {}
      },
      "cell_type": "code",
      "source": [
        "# Visualize loss plot\n",
        "plt.plot(loss_plot)\n",
        "plt.xlabel('Iteration')\n",
        "plt.ylabel('Loss')\n",
        "plt.title('Training loss history')\n",
        "plt.gcf().set_size_inches(30, 10)\n",
        "plt.show()"
      ],
      "execution_count": 0,
      "outputs": []
    }
  ]
}