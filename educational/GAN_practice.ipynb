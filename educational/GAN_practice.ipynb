{
  "nbformat": 4,
  "nbformat_minor": 0,
  "metadata": {
    "colab": {
      "name": "GAN-practice.ipynb",
      "version": "0.3.2",
      "provenance": [],
      "collapsed_sections": []
    },
    "kernelspec": {
      "name": "python3",
      "display_name": "Python 3"
    },
    "accelerator": "GPU"
  },
  "cells": [
    {
      "metadata": {
        "id": "rc_qoyJxkAR2",
        "colab_type": "text"
      },
      "cell_type": "markdown",
      "source": [
        "# yo basic litt intro (from 231n) of Generative Adversarial Networks (GANs)\n",
        "\n",
        "Many of the applications of neural networks that we have explored have been **discriminative models** that take an input and are trained to produce a labeled output. This has ranged from straightforward classification of image categories to sentence generation (which was still phrased as a classification problem, our labels were in vocabulary space and we’d learned a recurrence to capture multi-word labels). In this notebook, we will expand our repetoire, and build **generative models** using neural networks. Specifically, we will learn how to build models which generate novel images that resemble a set of training images.\n",
        "\n",
        "### What is a GAN?\n",
        "\n",
        "In 2014, [Goodfellow et al.](https://arxiv.org/abs/1406.2661) presented a method for training generative models called Generative Adversarial Networks (GANs for short). In a GAN, we build two different neural networks. Our first network is a traditional classification network, called the **discriminator**. We will train the discriminator to take images, and classify them as being real (belonging to the training set) or fake (not present in the training set). Our other network, called the **generator**, will take random noise as input and transform it using a neural network to produce images. The goal of the generator is to fool the discriminator into thinking the images it produced are real.\n",
        "\n",
        "We can think of this back and forth process of the generator ($G$) trying to fool the discriminator ($D$), and the discriminator trying to correctly classify real vs. fake as a minimax game:\n",
        "$$\\underset{G}{\\text{minimize}}\\; \\underset{D}{\\text{maximize}}\\; \\mathbb{E}_{x \\sim p_\\text{data}}\\left[\\log D(x)\\right] + \\mathbb{E}_{z \\sim p(z)}\\left[\\log \\left(1-D(G(z))\\right)\\right]$$\n",
        "where $x \\sim p_\\text{data}$ are samples from the input data, $z \\sim p(z)$ are the random noise samples, $G(z)$ are the generated images using the neural network generator $G$, and $D$ is the output of the discriminator, specifying the probability of an input being real. In [Goodfellow et al.](https://arxiv.org/abs/1406.2661), they analyze this minimax game and show how it relates to minimizing the Jensen-Shannon divergence between the training data distribution and the generated samples from $G$.\n",
        "\n",
        "To optimize this minimax game, we will aternate between taking gradient *descent* steps on the objective for $G$, and gradient *ascent* steps on the objective for $D$:\n",
        "1. update the **generator** ($G$) to minimize the probability of the __discriminator making the correct choice__. \n",
        "2. update the **discriminator** ($D$) to maximize the probability of the __discriminator making the correct choice__.\n",
        "\n",
        "While these updates are useful for analysis, they do not perform well in practice. Instead, we will use a different objective when we update the generator: maximize the probability of the **discriminator making the incorrect choice**. This small change helps to allevaiate problems with the generator gradient vanishing when the discriminator is confident. This is the standard update used in most GAN papers, and was used in the original paper from [Goodfellow et al.](https://arxiv.org/abs/1406.2661). \n",
        "\n",
        "In this assignment, we will alternate the following updates:\n",
        "1. Update the generator ($G$) to maximize the probability of the discriminator making the incorrect choice on generated data:\n",
        "$$\\underset{G}{\\text{maximize}}\\;  \\mathbb{E}_{z \\sim p(z)}\\left[\\log D(G(z))\\right]$$\n",
        "2. Update the discriminator ($D$), to maximize the probability of the discriminator making the correct choice on real and generated data:\n",
        "$$\\underset{D}{\\text{maximize}}\\; \\mathbb{E}_{x \\sim p_\\text{data}}\\left[\\log D(x)\\right] + \\mathbb{E}_{z \\sim p(z)}\\left[\\log \\left(1-D(G(z))\\right)\\right]$$\n",
        "\n",
        "### What else is there?\n",
        "Since 2014, GANs have exploded into a huge research area, with massive [workshops](https://sites.google.com/site/nips2016adversarial/), and [hundreds of new papers](https://github.com/hindupuravinash/the-gan-zoo). Compared to other approaches for generative models, they often produce the highest quality samples but are some of the most difficult and finicky models to train (see [this github repo](https://github.com/soumith/ganhacks) that contains a set of 17 hacks that are useful for getting models working). Improving the stabiilty and robustness of GAN training is an open research question, with new papers coming out every day! For a more recent tutorial on GANs, see [here](https://arxiv.org/abs/1701.00160). There is also some even more recent exciting work that changes the objective function to Wasserstein distance and yields much more stable results across model architectures: [WGAN](https://arxiv.org/abs/1701.07875), [WGAN-GP](https://arxiv.org/abs/1704.00028).\n",
        "\n",
        "\n",
        "GANs are not the only way to train a generative model! For other approaches to generative modeling check out the [deep generative model chapter](http://www.deeplearningbook.org/contents/generative_models.html) of the Deep Learning [book](http://www.deeplearningbook.org). Another popular way of training neural networks as generative models is Variational Autoencoders (co-discovered [here](https://arxiv.org/abs/1312.6114) and [here](https://arxiv.org/abs/1401.4082)). Variational autoencoders combine neural networks with variational inference to train deep generative models. These models tend to be far more stable and easier to train but currently don't produce samples that are as pretty as GANs."
      ]
    },
    {
      "metadata": {
        "id": "fYxvAqecrHNK",
        "colab_type": "text"
      },
      "cell_type": "markdown",
      "source": [
        "Practice: building a MNIST-M GAN!\n",
        "\n"
      ]
    },
    {
      "metadata": {
        "id": "0FvfbKWaqyNI",
        "colab_type": "code",
        "colab": {}
      },
      "cell_type": "code",
      "source": [
        "import tensorflow as tf\n",
        "import numpy as np\n",
        "import matplotlib.pyplot as plt\n",
        "import matplotlib.gridspec as gridspec\n",
        "\n",
        "import pickle as pkl\n",
        "%matplotlib inline"
      ],
      "execution_count": 0,
      "outputs": []
    },
    {
      "metadata": {
        "id": "1UOVW0Qrq1KB",
        "colab_type": "code",
        "outputId": "69b71432-6fd9-40dc-9621-e956cc1e42e2",
        "colab": {
          "base_uri": "https://localhost:8080/",
          "height": 433
        }
      },
      "cell_type": "code",
      "source": [
        "from tensorflow.examples.tutorials.mnist import input_data\n",
        "mnist = input_data.read_data_sets(\"MNIST_data/\", one_hot=True)"
      ],
      "execution_count": 0,
      "outputs": [
        {
          "output_type": "stream",
          "text": [
            "WARNING:tensorflow:From <ipython-input-2-8bf8ae5a5303>:2: read_data_sets (from tensorflow.contrib.learn.python.learn.datasets.mnist) is deprecated and will be removed in a future version.\n",
            "Instructions for updating:\n",
            "Please use alternatives such as official/mnist/dataset.py from tensorflow/models.\n",
            "WARNING:tensorflow:From /usr/local/lib/python3.6/dist-packages/tensorflow/contrib/learn/python/learn/datasets/mnist.py:260: maybe_download (from tensorflow.contrib.learn.python.learn.datasets.base) is deprecated and will be removed in a future version.\n",
            "Instructions for updating:\n",
            "Please write your own downloading logic.\n",
            "WARNING:tensorflow:From /usr/local/lib/python3.6/dist-packages/tensorflow/contrib/learn/python/learn/datasets/mnist.py:262: extract_images (from tensorflow.contrib.learn.python.learn.datasets.mnist) is deprecated and will be removed in a future version.\n",
            "Instructions for updating:\n",
            "Please use tf.data to implement this functionality.\n",
            "Extracting MNIST_data/train-images-idx3-ubyte.gz\n",
            "WARNING:tensorflow:From /usr/local/lib/python3.6/dist-packages/tensorflow/contrib/learn/python/learn/datasets/mnist.py:267: extract_labels (from tensorflow.contrib.learn.python.learn.datasets.mnist) is deprecated and will be removed in a future version.\n",
            "Instructions for updating:\n",
            "Please use tf.data to implement this functionality.\n",
            "Extracting MNIST_data/train-labels-idx1-ubyte.gz\n",
            "WARNING:tensorflow:From /usr/local/lib/python3.6/dist-packages/tensorflow/contrib/learn/python/learn/datasets/mnist.py:110: dense_to_one_hot (from tensorflow.contrib.learn.python.learn.datasets.mnist) is deprecated and will be removed in a future version.\n",
            "Instructions for updating:\n",
            "Please use tf.one_hot on tensors.\n",
            "Extracting MNIST_data/t10k-images-idx3-ubyte.gz\n",
            "Extracting MNIST_data/t10k-labels-idx1-ubyte.gz\n",
            "WARNING:tensorflow:From /usr/local/lib/python3.6/dist-packages/tensorflow/contrib/learn/python/learn/datasets/mnist.py:290: DataSet.__init__ (from tensorflow.contrib.learn.python.learn.datasets.mnist) is deprecated and will be removed in a future version.\n",
            "Instructions for updating:\n",
            "Please use alternatives such as official/mnist/dataset.py from tensorflow/models.\n"
          ],
          "name": "stdout"
        }
      ]
    },
    {
      "metadata": {
        "id": "TfPobV5XrD58",
        "colab_type": "text"
      },
      "cell_type": "markdown",
      "source": [
        "Now, please run python create_mnistm.py to create \"mnistm_data.pkl\"\n"
      ]
    },
    {
      "metadata": {
        "id": "bcUhOfQ0rU2c",
        "colab_type": "code",
        "colab": {}
      },
      "cell_type": "code",
      "source": [
        "#some UTILITY FUNCTIONS\n",
        "def preprocess_img(x):\n",
        "    return 2 * x - 1.0\n",
        "  \n",
        "def deprocess_img(x):\n",
        "    return (x + 1.0) / 2.0\n",
        "\n",
        "def show_images(images):\n",
        "    images = np.reshape(images, [images.shape[0], -1])  # images reshape to (batch_size, D)\n",
        "    sqrtn = int(np.ceil(np.sqrt(images.shape[0])))\n",
        "    sqrtimg = int(np.ceil(np.sqrt(images.shape[1])))\n",
        "\n",
        "    fig = plt.figure(figsize=(sqrtn, sqrtn))\n",
        "    gs = gridspec.GridSpec(sqrtn, sqrtn)\n",
        "    gs.update(wspace=0.05, hspace=0.05)\n",
        "\n",
        "    for i, img in enumerate(images):\n",
        "        ax = plt.subplot(gs[i])\n",
        "        plt.axis('off')\n",
        "        ax.set_xticklabels([])\n",
        "        ax.set_yticklabels([])\n",
        "        ax.set_aspect('equal')\n",
        "        plt.imshow(img.reshape([sqrtimg,sqrtimg]))\n",
        "    return\n",
        "\n",
        "def shuffle_aligned_list(data):\n",
        "    \"\"\"Shuffle arrays in a list by shuffling each array identically.\"\"\"\n",
        "    num = data[0].shape[0]\n",
        "    p = np.random.permutation(num)\n",
        "    return [d[p] for d in data]\n",
        "\n",
        "def batch_generator(data, batch_size, shuffle=True):\n",
        "    \"\"\"Generate batches of data.\n",
        "    \n",
        "    Given a list of array-like objects, generate batches of a given\n",
        "    size by yielding a list of array-like objects corresponding to the\n",
        "    same slice of each input.\n",
        "    \"\"\"\n",
        "    if shuffle:\n",
        "        data = shuffle_aligned_list(data)\n",
        "\n",
        "    batch_count = 0\n",
        "    while True:\n",
        "        if batch_count * batch_size + batch_size >= len(data[0]):\n",
        "            batch_count = 0\n",
        "\n",
        "            if shuffle:\n",
        "                data = shuffle_aligned_list(data)\n",
        "\n",
        "        start = batch_count * batch_size\n",
        "        end = start + batch_size\n",
        "        batch_count += 1\n",
        "        yield [d[start:end] for d in data]"
      ],
      "execution_count": 0,
      "outputs": []
    },
    {
      "metadata": {
        "id": "1l4E2XIEpJgC",
        "colab_type": "code",
        "outputId": "ae124a0f-0ed8-4549-e154-3b30b79b0450",
        "colab": {
          "base_uri": "https://localhost:8080/",
          "height": 248
        }
      },
      "cell_type": "code",
      "source": [
        "show_images(mnist.test.images[3:19])"
      ],
      "execution_count": 0,
      "outputs": [
        {
          "output_type": "display_data",
          "data": {
            "image/png": "[encoded data removed]",
            "text/plain": [
              "<Figure size 288x288 with 16 Axes>"
            ]
          },
          "metadata": {
            "tags": []
          }
        }
      ]
    },
    {
      "metadata": {
        "id": "BeQ029AYyEB4",
        "colab_type": "text"
      },
      "cell_type": "markdown",
      "source": [
        "#Code writing begins below"
      ]
    },
    {
      "metadata": {
        "id": "HXNJCPcmkWVZ",
        "colab_type": "code",
        "colab": {}
      },
      "cell_type": "code",
      "source": [
        "# Write a method to generate a uniform noise vector:\n",
        "# use tf.random_uniform\n",
        "\n",
        "def sample_noise(batch_size, dim):\n",
        "    \"\"\"Generate random uniform noise from -1 to 1.\n",
        "    \n",
        "    Inputs:\n",
        "    - batch_size: integer giving the batch size of noise to generate\n",
        "    - dim: integer giving the dimension of the the noise to generate\n",
        "    \n",
        "    Returns:\n",
        "    TensorFlow Tensor containing uniform noise in [-1, 1] with shape [batch_size, dim]\n",
        "    \"\"\"\n",
        "    return SOMETHING_SOMETHING"
      ],
      "execution_count": 0,
      "outputs": []
    },
    {
      "metadata": {
        "id": "MK0dNQaelC48",
        "colab_type": "text"
      },
      "cell_type": "markdown",
      "source": [
        "## Discriminator\n",
        "Our first step is to build a discriminator. You should use the layers in `tf.layers` to build the model.\n",
        "All fully connected layers should include bias terms. For initialization, just use the default initializer used by the `tf.layers` functions.\n",
        "\n",
        "*Be sure to check the dimensions of x and reshape when needed*, fully connected blocks expect [N,D] Tensors while conv2d blocks expect [N,H,W,C] Tensors. Please use `tf.layers` to define the following architecture:\n",
        "\n",
        "Recommended \n",
        "Architecture:\n",
        "* Conv2D: 32 Filters, 5x5, Stride 1, padding 0\n",
        "* Leaky ReLU (tf.nn.leaky_relu)\n",
        "* Max Pool (tf.layers.max_pooling2d) 2x2, Stride 2\n",
        "* Conv2D: 64 Filters, 5x5, Stride 1, padding 0\n",
        "* Leaky ReLU\n",
        "* Max Pool 2x2, Stride 2\n",
        "* Flatten (tf.layers.flatten)\n",
        "* Fully Connected with output size 4 x 4 x 64\n",
        "* Leaky ReLU(alpha=0.01)\n",
        "* Fully Connected with output size 1\n",
        "\n",
        "Once again, please use biases for all convolutional and fully connected layers, and use the default parameter initializers. Note that a padding of 0 can be accomplished with the 'VALID' padding option."
      ]
    },
    {
      "metadata": {
        "id": "iutoO3oSkiGb",
        "colab_type": "code",
        "colab": {}
      },
      "cell_type": "code",
      "source": [
        "# Write a discriminator model\n",
        "\n",
        "def discriminator(x):\n",
        "    \"\"\"Compute discriminator score for a batch of input images.\n",
        "    \n",
        "    Inputs:\n",
        "    - x: TensorFlow Tensor of flattened input images, shape [batch_size, 784]\n",
        "    \n",
        "    Returns:\n",
        "    TensorFlow Tensor with shape [batch_size, 1], containing the score \n",
        "    for an image being real for each input image.\n",
        "    \"\"\"\n",
        "    with tf.variable_scope(\"discriminator\"):\n",
        "        #write your discriminator model here\n",
        "        SOMETHING_SOMETHING\n",
        "        logits = x\n",
        "        return logits"
      ],
      "execution_count": 0,
      "outputs": []
    },
    {
      "metadata": {
        "id": "gjy2dOxHlFUh",
        "colab_type": "text"
      },
      "cell_type": "markdown",
      "source": [
        "## Generator\n",
        "Now to build a generator. Please use `tf.layers` for your implementation. You might find the documentation for [tf.layers.conv2d_transpose](https://www.tensorflow.org/api_docs/python/tf/layers/conv2d_transpose) useful. The architecture is as follows.\n",
        "\n",
        "Recommended Architecture:\n",
        "* Fully connected with output size 1024 \n",
        "* `ReLU` (tf.nn.relu)\n",
        "* BatchNorm (tf.layers.batch_normalization)\n",
        "* Fully connected with output size 7 x 7 x 128 \n",
        "* `ReLU`\n",
        "* BatchNorm\n",
        "* Resize into Image Tensor of size 7, 7, 128\n",
        "* Conv2D^T (transpose) (tf.layers.conv2d_transpose): 64 filters of 4x4, stride 2\n",
        "* `ReLU`\n",
        "* BatchNorm\n",
        "* Conv2d^T (transpose): 1 filter of 4x4, stride 2\n",
        "* `TanH`\n",
        "\n",
        "Once again, use biases for the fully connected and transpose convolutional layers. Please use the default initializers for your parameters. For padding, choose the 'same' option for transpose convolutions. For Batch Normalization, assume we are always in 'training' mode."
      ]
    },
    {
      "metadata": {
        "id": "plSE06QNlMCL",
        "colab_type": "code",
        "colab": {}
      },
      "cell_type": "code",
      "source": [
        "def generator(z):\n",
        "    \"\"\"Generate images from a random noise vector.\n",
        "    \n",
        "    Inputs:\n",
        "    - z: TensorFlow Tensor of random noise with shape [batch_size, noise_dim]\n",
        "    \n",
        "    Returns:\n",
        "    TensorFlow Tensor of generated images, with shape [batch_size, 784].\n",
        "    \"\"\"\n",
        "    with tf.variable_scope(\"generator\"):\n",
        "        #write your generator model here\n",
        "        SOMETHING_SOMETHING\n",
        "        img = z\n",
        "        \n",
        "        return img"
      ],
      "execution_count": 0,
      "outputs": []
    },
    {
      "metadata": {
        "id": "_hLIf9fCmsWM",
        "colab_type": "text"
      },
      "cell_type": "markdown",
      "source": [
        "# GAN Loss\n",
        "\n",
        "Compute the generator and discriminator loss. The generator loss is:\n",
        "$$\\ell_G  =  \\mathbb{E}_{z \\sim p(z)}\\left[\\log D(G(z))\\right]$$\n",
        "and the discriminator loss is:\n",
        "$$ \\ell_D = \\mathbb{E}_{x \\sim p_\\text{data}}\\left[\\log D(x)\\right] + \\mathbb{E}_{z \\sim p(z)}\\left[\\log \\left(1-D(G(z))\\right)\\right]$$\n",
        "\n",
        "\n",
        "**HINTS**: Use [tf.ones_like](https://www.tensorflow.org/api_docs/python/tf/ones_like) and [tf.zeros_like](https://www.tensorflow.org/api_docs/python/tf/zeros_like) to generate labels for your discriminator. Use [tf.nn.sigmoid_cross_entropy_with_logits](https://www.tensorflow.org/api_docs/python/tf/nn/sigmoid_cross_entropy_with_logits) to help compute your loss function. Instead of computing the expectation, we will be averaging over elements of the minibatch, so make sure to combine the loss by averaging instead of summing."
      ]
    },
    {
      "metadata": {
        "id": "QnYF2AwKnInb",
        "colab_type": "code",
        "colab": {}
      },
      "cell_type": "code",
      "source": [
        "def gan_loss(logits_real, logits_fake):\n",
        "    \"\"\"Compute the GAN loss.\n",
        "    \n",
        "    Inputs:\n",
        "    - logits_real: Tensor, shape [batch_size, 1], output of discriminator\n",
        "        Unnormalized score that the image is real for each real image\n",
        "    - logits_fake: Tensor, shape[batch_size, 1], output of discriminator\n",
        "        Unnormalized score that the image is real for each fake image\n",
        "    \n",
        "    Returns:\n",
        "    - D_loss: discriminator loss scalar\n",
        "    - G_loss: generator loss scalar\n",
        "    \n",
        "    HINT: for the discriminator loss, you'll want to do the averaging separately for\n",
        "    its two components, and then add them together (instead of averaging once at the very end).\n",
        "    \"\"\"\n",
        "       \n",
        "    G_loss = SOMETHING_SOMETHING\n",
        "    D_loss = SOMETHING_SOMETHING\n",
        "    \n",
        "    return D_loss, G_loss"
      ],
      "execution_count": 0,
      "outputs": []
    },
    {
      "metadata": {
        "id": "X7ilNyM6AOTv",
        "colab_type": "text"
      },
      "cell_type": "markdown",
      "source": [
        "## The code block below is written out for you\n",
        "Take the time to read through the code to understand it"
      ]
    },
    {
      "metadata": {
        "id": "NZNpvbKbnjvr",
        "colab_type": "code",
        "colab": {}
      },
      "cell_type": "code",
      "source": [
        "tf.reset_default_graph()\n",
        "\n",
        "# number of images for each batch\n",
        "batch_size = 128\n",
        "# our noise dimension\n",
        "noise_dim = 96\n",
        "\n",
        "# placeholder for images from the training dataset\n",
        "x = tf.placeholder(tf.float32, [None, 784])\n",
        "# random noise fed into our generator\n",
        "z = sample_noise(batch_size, noise_dim)\n",
        "# generated images\n",
        "G_sample = generator(z)\n",
        "\n",
        "with tf.variable_scope(\"\") as scope:\n",
        "    logits_real = discriminator(preprocess_img(x))\n",
        "    # Re-use discriminator weights on new inputs\n",
        "    scope.reuse_variables()\n",
        "    logits_fake = discriminator(G_sample)\n",
        "\n",
        "# Get the list of variables for the discriminator and generator\n",
        "D_vars = tf.get_collection(tf.GraphKeys.TRAINABLE_VARIABLES, 'discriminator')\n",
        "G_vars = tf.get_collection(tf.GraphKeys.TRAINABLE_VARIABLES, 'generator') \n",
        "\n",
        "# get our solver\n",
        "D_solver = tf.train.AdamOptimizer(learning_rate=1e-3, beta1=.5)\n",
        "G_solver = tf.train.AdamOptimizer(learning_rate=1e-3, beta1=.5)\n",
        "\n",
        "# get our loss\n",
        "D_loss, G_loss = gan_loss(logits_real, logits_fake)\n",
        "\n",
        "# setup training steps\n",
        "D_train_step = D_solver.minimize(D_loss, var_list=D_vars)\n",
        "G_train_step = G_solver.minimize(G_loss, var_list=G_vars)\n",
        "D_extra_step = tf.get_collection(tf.GraphKeys.UPDATE_OPS, 'discriminator')\n",
        "G_extra_step = tf.get_collection(tf.GraphKeys.UPDATE_OPS, 'generator')"
      ],
      "execution_count": 0,
      "outputs": []
    },
    {
      "metadata": {
        "id": "c5PuajyOp98n",
        "colab_type": "code",
        "colab": {}
      },
      "cell_type": "code",
      "source": [
        "sess = tf.Session() \n",
        "init = tf.global_variables_initializer() \n",
        "sess.run(init)"
      ],
      "execution_count": 0,
      "outputs": []
    },
    {
      "metadata": {
        "id": "rxgNPETgsmAO",
        "colab_type": "code",
        "colab": {}
      },
      "cell_type": "code",
      "source": [
        "# Now write your training loop\n",
        "\n",
        "batch_size = #your batch size\n",
        "Gloss_plot = []\n",
        "Dloss_plot = []\n",
        "num_epochs = 10000\n",
        "k = 1\n",
        "\n",
        "mnist_batch = batch_generator([mnist.train.images, mnist.train.labels], batch_size)\n",
        "for epoch in range(num_epochs + 1):\n",
        "  batch_xs, _ = next(mnist_batch)\n",
        "  \n",
        "  #what do we need to write here\n",
        "  SOMETHING_SOMETHING\n",
        "  \n",
        "  \n",
        "  if epoch % 100 == 0:\n",
        "      print(epoch, \"Batch Loss:\", D_loss_curr, G_loss_curr)\n",
        "  if epoch % 500 == 0:\n",
        "      samples = sess.run(G_sample) \n",
        "      fig = show_images(samples[:16])\n",
        "      plt.show()\n",
        "      print()\n"
      ],
      "execution_count": 0,
      "outputs": []
    },
    {
      "metadata": {
        "id": "W9ApafqK-k_J",
        "colab_type": "code",
        "colab": {}
      },
      "cell_type": "code",
      "source": [
        "#see some pics\n",
        "samples = sess.run(G_sample) \n",
        "fig = show_images(samples)\n",
        "plt.show()"
      ],
      "execution_count": 0,
      "outputs": []
    },
    {
      "metadata": {
        "id": "tt_XscIdu-4P",
        "colab_type": "code",
        "colab": {}
      },
      "cell_type": "code",
      "source": [
        "# Visualize loss plot\n",
        "plt.plot(Gloss_plot)\n",
        "plt.xlabel('Iteration')\n",
        "plt.ylabel('Loss')\n",
        "plt.title('Training loss history')\n",
        "plt.gcf().set_size_inches(30, 10)\n",
        "plt.show()"
      ],
      "execution_count": 0,
      "outputs": []
    },
    {
      "metadata": {
        "id": "1W_W2X_XsD1T",
        "colab_type": "code",
        "colab": {}
      },
      "cell_type": "code",
      "source": [
        "# Visualize loss plot\n",
        "plt.plot(Dloss_plot)\n",
        "plt.xlabel('Iteration')\n",
        "plt.ylabel('Loss')\n",
        "plt.title('Training loss history')\n",
        "plt.gcf().set_size_inches(30, 10)\n",
        "plt.show()"
      ],
      "execution_count": 0,
      "outputs": []
    },
    {
      "metadata": {
        "id": "il4JDskwsEb-",
        "colab_type": "code",
        "colab": {}
      },
      "cell_type": "code",
      "source": [
        ""
      ],
      "execution_count": 0,
      "outputs": []
    }
  ]
}