{
 "cells": [
  {
   "cell_type": "code",
   "execution_count": 55,
   "metadata": {},
   "outputs": [],
   "source": [
    "from PIL import Image\n",
    "import glob\n",
    "import os\n",
    "import numpy as np\n",
    "import os"
   ]
  },
  {
   "cell_type": "code",
   "execution_count": 56,
   "metadata": {},
   "outputs": [],
   "source": [
    "'''\n",
    "params \n",
    "    main directory \"./UPMC_Food101/images/train\" that the sub-folders are in \n",
    "return\n",
    "    dictionary containing the sub-folders and a list of all the image paths for a specific food\n",
    "        keys are \"baklava\" \n",
    "        values are \"./UPMC_Food101/images/train/baklava/baklava_808.jpg\"\n",
    "'''\n",
    "def create_food_dictionary(main_directory, food_types): \n",
    "    for root, dirs, files in os.walk(main_directory, topdown=False):\n",
    "        food_name = root.split('/')[-1] # get the last string of something like \"./UPMC_Food101/images/train/baklava\"\n",
    "        if food_name not in food_types:\n",
    "            food_types[food_name] = []\n",
    "        for root2, dirs, files in os.walk(root, topdown=False):\n",
    "            for name in files:\n",
    "                food_types[food_name].append(os.path.join(root2, name))\n",
    "    return food_types"
   ]
  },
  {
   "cell_type": "code",
   "execution_count": 57,
   "metadata": {},
   "outputs": [],
   "source": [
    "'''\n",
    "params \n",
    "    a list of image paths like [\"./UPMC_Food101/images/train/baklava/baklava_808.jpg\"]\n",
    "returns \n",
    "    all the images in that list stacked. Each row is a flattened image that contains (R,G,B)\n",
    "'''\n",
    "def create_stacked_images(img_list): \n",
    "    final_array = [] \n",
    "    for image_path in img_list:\n",
    "        im=Image.open(image_path)\n",
    "        cropped_image = crop(im, 64, 64)\n",
    "        final_array.append(rgb(cropped_image, 64, 64)) \n",
    "    return final_array      "
   ]
  },
  {
   "cell_type": "code",
   "execution_count": 58,
   "metadata": {},
   "outputs": [],
   "source": [
    "# returns an array of rgb tuples for one image \n",
    "# returns the flattened image\n",
    "def rgb(image, width, length):\n",
    "    flattened = []\n",
    "    for i in range(width): \n",
    "        for j in range(length):\n",
    "            new = image.load()[i, j]\n",
    "            flattened.append(new)\n",
    "    return np.array(flattened)"
   ]
  },
  {
   "cell_type": "code",
   "execution_count": 59,
   "metadata": {},
   "outputs": [],
   "source": [
    "# takes in an PIL Image object \n",
    "# returns an Image object that is cropped \n",
    "def crop(im, new_width, new_height):\n",
    "    width, height = im.size \n",
    "    left = (width - new_width)/2\n",
    "    top = (height - new_height)/2\n",
    "    right = (width + new_width)/2\n",
    "    bottom = (height + new_height)/2\n",
    "    return im.crop((left, top, right, bottom))"
   ]
  },
  {
   "cell_type": "code",
   "execution_count": 74,
   "metadata": {},
   "outputs": [],
   "source": [
    "# take in an array and output it to a numpy file \n",
    "def create_np_file(array, name):\n",
    "    np.save(name, array)\n",
    "    return"
   ]
  },
  {
   "cell_type": "code",
   "execution_count": 90,
   "metadata": {},
   "outputs": [],
   "source": [
    "# creates .npy files for each array in dictionary, saves them in the folder specified by the path to folder param \n",
    "# saving in folder \"food_lists\" = './food_lists'\n",
    "# takes care of cropping of all the images specified in the dictionary \n",
    "def create_files(food_dict, path_to_folder): \n",
    "    for key, value in food_dict.items():\n",
    "        array = create_stacked_images(food_dict[key])\n",
    "        create_np_file(array, path_to_folder + '/' + key + '.npy')\n",
    "    return "
   ]
  },
  {
   "cell_type": "code",
   "execution_count": 91,
   "metadata": {},
   "outputs": [],
   "source": [
    "final_food_dict = {} \n",
    "final_food_dict = create_food_dictionary(\"./UPMC_Food101/images/train\", final_food_dict) \n",
    "final_food_dict = create_food_dictionary(\"./UPMC_Food101/images/test\", final_food_dict)"
   ]
  },
  {
   "cell_type": "code",
   "execution_count": 92,
   "metadata": {},
   "outputs": [
    {
     "name": "stderr",
     "output_type": "stream",
     "text": [
      "/Library/Frameworks/Python.framework/Versions/3.7/lib/python3.7/site-packages/PIL/TiffImagePlugin.py:763: UserWarning: Possibly corrupt EXIF data.  Expecting to read 6 bytes but only got 0. Skipping tag 271\n",
      "  \" Skipping tag %s\" % (size, len(data), tag))\n",
      "/Library/Frameworks/Python.framework/Versions/3.7/lib/python3.7/site-packages/PIL/TiffImagePlugin.py:763: UserWarning: Possibly corrupt EXIF data.  Expecting to read 7 bytes but only got 0. Skipping tag 272\n",
      "  \" Skipping tag %s\" % (size, len(data), tag))\n",
      "/Library/Frameworks/Python.framework/Versions/3.7/lib/python3.7/site-packages/PIL/TiffImagePlugin.py:763: UserWarning: Possibly corrupt EXIF data.  Expecting to read 8 bytes but only got 0. Skipping tag 282\n",
      "  \" Skipping tag %s\" % (size, len(data), tag))\n",
      "/Library/Frameworks/Python.framework/Versions/3.7/lib/python3.7/site-packages/PIL/TiffImagePlugin.py:763: UserWarning: Possibly corrupt EXIF data.  Expecting to read 8 bytes but only got 0. Skipping tag 283\n",
      "  \" Skipping tag %s\" % (size, len(data), tag))\n",
      "/Library/Frameworks/Python.framework/Versions/3.7/lib/python3.7/site-packages/PIL/TiffImagePlugin.py:763: UserWarning: Possibly corrupt EXIF data.  Expecting to read 20 bytes but only got 0. Skipping tag 306\n",
      "  \" Skipping tag %s\" % (size, len(data), tag))\n",
      "/Library/Frameworks/Python.framework/Versions/3.7/lib/python3.7/site-packages/PIL/TiffImagePlugin.py:780: UserWarning: Corrupt EXIF data.  Expecting to read 2 bytes but only got 0. \n",
      "  warnings.warn(str(msg))\n"
     ]
    },
    {
     "ename": "OSError",
     "evalue": "cannot identify image file './UPMC_Food101/images/train/.DS_Store'",
     "output_type": "error",
     "traceback": [
      "\u001b[0;31m---------------------------------------------------------------------------\u001b[0m",
      "\u001b[0;31mOSError\u001b[0m                                   Traceback (most recent call last)",
      "\u001b[0;32m<ipython-input-92-8657ff1cbee1>\u001b[0m in \u001b[0;36m<module>\u001b[0;34m\u001b[0m\n\u001b[0;32m----> 1\u001b[0;31m \u001b[0mcreate_files\u001b[0m\u001b[0;34m(\u001b[0m\u001b[0mfinal_food_dict\u001b[0m\u001b[0;34m,\u001b[0m \u001b[0;34m'./np_array_outputs'\u001b[0m\u001b[0;34m)\u001b[0m\u001b[0;34m\u001b[0m\u001b[0;34m\u001b[0m\u001b[0m\n\u001b[0m",
      "\u001b[0;32m<ipython-input-90-6eb7eb591e08>\u001b[0m in \u001b[0;36mcreate_files\u001b[0;34m(food_dict, path_to_folder)\u001b[0m\n\u001b[1;32m      4\u001b[0m \u001b[0;32mdef\u001b[0m \u001b[0mcreate_files\u001b[0m\u001b[0;34m(\u001b[0m\u001b[0mfood_dict\u001b[0m\u001b[0;34m,\u001b[0m \u001b[0mpath_to_folder\u001b[0m\u001b[0;34m)\u001b[0m\u001b[0;34m:\u001b[0m\u001b[0;34m\u001b[0m\u001b[0;34m\u001b[0m\u001b[0m\n\u001b[1;32m      5\u001b[0m     \u001b[0;32mfor\u001b[0m \u001b[0mkey\u001b[0m\u001b[0;34m,\u001b[0m \u001b[0mvalue\u001b[0m \u001b[0;32min\u001b[0m \u001b[0mfood_dict\u001b[0m\u001b[0;34m.\u001b[0m\u001b[0mitems\u001b[0m\u001b[0;34m(\u001b[0m\u001b[0;34m)\u001b[0m\u001b[0;34m:\u001b[0m\u001b[0;34m\u001b[0m\u001b[0;34m\u001b[0m\u001b[0m\n\u001b[0;32m----> 6\u001b[0;31m         \u001b[0marray\u001b[0m \u001b[0;34m=\u001b[0m \u001b[0mcreate_stacked_images\u001b[0m\u001b[0;34m(\u001b[0m\u001b[0mfood_dict\u001b[0m\u001b[0;34m[\u001b[0m\u001b[0mkey\u001b[0m\u001b[0;34m]\u001b[0m\u001b[0;34m)\u001b[0m\u001b[0;34m\u001b[0m\u001b[0;34m\u001b[0m\u001b[0m\n\u001b[0m\u001b[1;32m      7\u001b[0m         \u001b[0mcreate_np_file\u001b[0m\u001b[0;34m(\u001b[0m\u001b[0marray\u001b[0m\u001b[0;34m,\u001b[0m \u001b[0mpath_to_folder\u001b[0m \u001b[0;34m+\u001b[0m \u001b[0;34m'/'\u001b[0m \u001b[0;34m+\u001b[0m \u001b[0mkey\u001b[0m \u001b[0;34m+\u001b[0m \u001b[0;34m'.npy'\u001b[0m\u001b[0;34m)\u001b[0m\u001b[0;34m\u001b[0m\u001b[0;34m\u001b[0m\u001b[0m\n\u001b[1;32m      8\u001b[0m     \u001b[0;32mreturn\u001b[0m\u001b[0;34m\u001b[0m\u001b[0;34m\u001b[0m\u001b[0m\n",
      "\u001b[0;32m<ipython-input-57-a3cf5e661e8c>\u001b[0m in \u001b[0;36mcreate_stacked_images\u001b[0;34m(img_list)\u001b[0m\n\u001b[1;32m      8\u001b[0m     \u001b[0mfinal_array\u001b[0m \u001b[0;34m=\u001b[0m \u001b[0;34m[\u001b[0m\u001b[0;34m]\u001b[0m\u001b[0;34m\u001b[0m\u001b[0;34m\u001b[0m\u001b[0m\n\u001b[1;32m      9\u001b[0m     \u001b[0;32mfor\u001b[0m \u001b[0mimage_path\u001b[0m \u001b[0;32min\u001b[0m \u001b[0mimg_list\u001b[0m\u001b[0;34m:\u001b[0m\u001b[0;34m\u001b[0m\u001b[0;34m\u001b[0m\u001b[0m\n\u001b[0;32m---> 10\u001b[0;31m         \u001b[0mim\u001b[0m\u001b[0;34m=\u001b[0m\u001b[0mImage\u001b[0m\u001b[0;34m.\u001b[0m\u001b[0mopen\u001b[0m\u001b[0;34m(\u001b[0m\u001b[0mimage_path\u001b[0m\u001b[0;34m)\u001b[0m\u001b[0;34m\u001b[0m\u001b[0;34m\u001b[0m\u001b[0m\n\u001b[0m\u001b[1;32m     11\u001b[0m         \u001b[0mcropped_image\u001b[0m \u001b[0;34m=\u001b[0m \u001b[0mcrop\u001b[0m\u001b[0;34m(\u001b[0m\u001b[0mim\u001b[0m\u001b[0;34m,\u001b[0m \u001b[0;36m64\u001b[0m\u001b[0;34m,\u001b[0m \u001b[0;36m64\u001b[0m\u001b[0;34m)\u001b[0m\u001b[0;34m\u001b[0m\u001b[0;34m\u001b[0m\u001b[0m\n\u001b[1;32m     12\u001b[0m         \u001b[0mfinal_array\u001b[0m\u001b[0;34m.\u001b[0m\u001b[0mappend\u001b[0m\u001b[0;34m(\u001b[0m\u001b[0mrgb\u001b[0m\u001b[0;34m(\u001b[0m\u001b[0mcropped_image\u001b[0m\u001b[0;34m,\u001b[0m \u001b[0;36m64\u001b[0m\u001b[0;34m,\u001b[0m \u001b[0;36m64\u001b[0m\u001b[0;34m)\u001b[0m\u001b[0;34m)\u001b[0m\u001b[0;34m\u001b[0m\u001b[0;34m\u001b[0m\u001b[0m\n",
      "\u001b[0;32m/Library/Frameworks/Python.framework/Versions/3.7/lib/python3.7/site-packages/PIL/Image.py\u001b[0m in \u001b[0;36mopen\u001b[0;34m(fp, mode)\u001b[0m\n\u001b[1;32m   2685\u001b[0m         \u001b[0mwarnings\u001b[0m\u001b[0;34m.\u001b[0m\u001b[0mwarn\u001b[0m\u001b[0;34m(\u001b[0m\u001b[0mmessage\u001b[0m\u001b[0;34m)\u001b[0m\u001b[0;34m\u001b[0m\u001b[0;34m\u001b[0m\u001b[0m\n\u001b[1;32m   2686\u001b[0m     raise IOError(\"cannot identify image file %r\"\n\u001b[0;32m-> 2687\u001b[0;31m                   % (filename if filename else fp))\n\u001b[0m\u001b[1;32m   2688\u001b[0m \u001b[0;34m\u001b[0m\u001b[0m\n\u001b[1;32m   2689\u001b[0m \u001b[0;31m#\u001b[0m\u001b[0;34m\u001b[0m\u001b[0;34m\u001b[0m\u001b[0;34m\u001b[0m\u001b[0m\n",
      "\u001b[0;31mOSError\u001b[0m: cannot identify image file './UPMC_Food101/images/train/.DS_Store'"
     ]
    }
   ],
   "source": [
    "create_files(final_food_dict, './np_array_outputs')"
   ]
  },
  {
   "cell_type": "code",
   "execution_count": 63,
   "metadata": {},
   "outputs": [],
   "source": [
    "# test = create_stacked_images(final_food_dict[\"baklava\"])\n"
   ]
  },
  {
   "cell_type": "code",
   "execution_count": 68,
   "metadata": {},
   "outputs": [],
   "source": [
    "# create_np_file(test, \"./np_array_outputs/baklava.npy\")"
   ]
  },
  {
   "cell_type": "markdown",
   "metadata": {},
   "source": [
    "# Old Code"
   ]
  },
  {
   "cell_type": "code",
   "execution_count": 101,
   "metadata": {},
   "outputs": [],
   "source": [
    "# # crop at the center 64, both train and test \n",
    "# # need to find a way to import all images in a directory \n",
    "\n",
    "# image_list = []\n",
    "# cropped_rgb_values = []\n",
    "# # images stores all the paths of images in the apple_pie folder \n",
    "# for path in images: \n",
    "#     for filename in glob.glob(path): # for all the images in the apple_pie folder \n",
    "#         im=Image.open(filename)\n",
    "#         image_list.append(im)\n",
    "#         pix = im.load()\n",
    "\n",
    "#         #crop it after\n",
    "#         # Get the RGBA Value of the a pixel of an image\n",
    "# #         pix[x,y] = value  # Set the RGBA Value of the image (tuple)\n",
    "#     #     im.save('alive_parrot.png') \n",
    "#         image = crop(im, 64, 64)\n",
    "#         array = rgb(image, 64, 64)"
   ]
  },
  {
   "cell_type": "code",
   "execution_count": null,
   "metadata": {},
   "outputs": [],
   "source": []
  }
 ],
 "metadata": {
  "kernelspec": {
   "display_name": "Python 3",
   "language": "python",
   "name": "python3"
  },
  "language_info": {
   "codemirror_mode": {
    "name": "ipython",
    "version": 3
   },
   "file_extension": ".py",
   "mimetype": "text/x-python",
   "name": "python",
   "nbconvert_exporter": "python",
   "pygments_lexer": "ipython3",
   "version": "3.7.2"
  }
 },
 "nbformat": 4,
 "nbformat_minor": 2
}
