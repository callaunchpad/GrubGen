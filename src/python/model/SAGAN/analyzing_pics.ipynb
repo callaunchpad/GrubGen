{
 "cells": [
  {
   "cell_type": "code",
<<<<<<< HEAD
   "execution_count": 57,
=======
   "execution_count": 5,
>>>>>>> 398303885a7f6b07a3af66671065d8c4c15ce58b
   "metadata": {},
   "outputs": [],
   "source": [
    "import numpy as np\n",
    "from PIL import Image"
   ]
  },
  {
   "cell_type": "code",
<<<<<<< HEAD
   "execution_count": 65,
   "metadata": {},
   "outputs": [],
   "source": [
    "imgs = np.load('last.npy')"
=======
   "execution_count": 6,
   "metadata": {},
   "outputs": [],
   "source": [
    "imgs = np.load('first_sagan_test.npy')"
>>>>>>> 398303885a7f6b07a3af66671065d8c4c15ce58b
   ]
  },
  {
   "cell_type": "code",
<<<<<<< HEAD
   "execution_count": 66,
   "metadata": {},
   "outputs": [],
   "source": [
    "reshaped_rgb = imgs.reshape(64, 64, 3)\n",
=======
   "execution_count": 7,
   "metadata": {},
   "outputs": [],
   "source": [
    "reshaped_rgb = imgs[39][0].reshape(64, 64, 3)\n",
>>>>>>> 398303885a7f6b07a3af66671065d8c4c15ce58b
    "img = Image.fromarray(reshaped_rgb, 'RGB')"
   ]
  },
  {
   "cell_type": "code",
<<<<<<< HEAD
   "execution_count": 67,
=======
   "execution_count": 9,
>>>>>>> 398303885a7f6b07a3af66671065d8c4c15ce58b
   "metadata": {},
   "outputs": [],
   "source": [
    "img.show()"
   ]
  },
  {
   "cell_type": "code",
   "execution_count": null,
   "metadata": {},
   "outputs": [],
   "source": []
<<<<<<< HEAD
  },
  {
   "cell_type": "code",
   "execution_count": null,
   "metadata": {},
   "outputs": [],
   "source": []
=======
>>>>>>> 398303885a7f6b07a3af66671065d8c4c15ce58b
  }
 ],
 "metadata": {
  "kernelspec": {
   "display_name": "Python 3",
   "language": "python",
   "name": "python3"
  },
  "language_info": {
   "codemirror_mode": {
    "name": "ipython",
    "version": 3
   },
   "file_extension": ".py",
   "mimetype": "text/x-python",
   "name": "python",
   "nbconvert_exporter": "python",
   "pygments_lexer": "ipython3",
   "version": "3.7.2"
  }
 },
 "nbformat": 4,
 "nbformat_minor": 2
}
